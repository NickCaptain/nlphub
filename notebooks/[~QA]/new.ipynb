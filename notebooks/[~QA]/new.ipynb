{
 "cells": [
  {
   "cell_type": "code",
   "execution_count": 5,
   "metadata": {},
   "outputs": [
    {
     "name": "stdout",
     "output_type": "stream",
     "text": [
      "Requirement already satisfied: farm-haystack[elasticsearch] in c:\\users\\nikit\\appdata\\local\\programs\\python\\python311\\lib\\site-packages (1.19.0)\n",
      "Requirement already satisfied: datasets in c:\\users\\nikit\\appdata\\local\\programs\\python\\python311\\lib\\site-packages (2.13.1)\n",
      "Requirement already satisfied: boilerpy3 in c:\\users\\nikit\\appdata\\local\\programs\\python\\python311\\lib\\site-packages (from farm-haystack[elasticsearch]) (1.0.6)\n",
      "Requirement already satisfied: canals==0.3.2 in c:\\users\\nikit\\appdata\\local\\programs\\python\\python311\\lib\\site-packages (from farm-haystack[elasticsearch]) (0.3.2)\n",
      "Requirement already satisfied: events in c:\\users\\nikit\\appdata\\local\\programs\\python\\python311\\lib\\site-packages (from farm-haystack[elasticsearch]) (0.5)\n",
      "Requirement already satisfied: jsonschema in c:\\users\\nikit\\appdata\\local\\programs\\python\\python311\\lib\\site-packages (from farm-haystack[elasticsearch]) (4.17.3)\n",
      "Requirement already satisfied: lazy-imports==0.3.1 in c:\\users\\nikit\\appdata\\local\\programs\\python\\python311\\lib\\site-packages (from farm-haystack[elasticsearch]) (0.3.1)\n",
      "Requirement already satisfied: more-itertools in c:\\users\\nikit\\appdata\\local\\programs\\python\\python311\\lib\\site-packages (from farm-haystack[elasticsearch]) (10.1.0)\n",
      "Requirement already satisfied: networkx in c:\\users\\nikit\\appdata\\local\\programs\\python\\python311\\lib\\site-packages (from farm-haystack[elasticsearch]) (3.0)\n",
      "Requirement already satisfied: pandas in c:\\users\\nikit\\appdata\\local\\programs\\python\\python311\\lib\\site-packages (from farm-haystack[elasticsearch]) (2.0.2)\n",
      "Requirement already satisfied: pillow in c:\\users\\nikit\\appdata\\local\\programs\\python\\python311\\lib\\site-packages (from farm-haystack[elasticsearch]) (9.3.0)\n",
      "Requirement already satisfied: platformdirs in c:\\users\\nikit\\appdata\\roaming\\python\\python311\\site-packages (from farm-haystack[elasticsearch]) (3.5.1)\n",
      "Requirement already satisfied: posthog in c:\\users\\nikit\\appdata\\local\\programs\\python\\python311\\lib\\site-packages (from farm-haystack[elasticsearch]) (3.0.2)\n",
      "Requirement already satisfied: prompthub-py==4.0.0 in c:\\users\\nikit\\appdata\\local\\programs\\python\\python311\\lib\\site-packages (from farm-haystack[elasticsearch]) (4.0.0)\n",
      "Requirement already satisfied: pydantic<2 in c:\\users\\nikit\\appdata\\local\\programs\\python\\python311\\lib\\site-packages (from farm-haystack[elasticsearch]) (1.10.12)\n",
      "Requirement already satisfied: quantulum3 in c:\\users\\nikit\\appdata\\local\\programs\\python\\python311\\lib\\site-packages (from farm-haystack[elasticsearch]) (0.9.0)\n",
      "Requirement already satisfied: rank-bm25 in c:\\users\\nikit\\appdata\\local\\programs\\python\\python311\\lib\\site-packages (from farm-haystack[elasticsearch]) (0.2.2)\n",
      "Requirement already satisfied: requests in c:\\users\\nikit\\appdata\\local\\programs\\python\\python311\\lib\\site-packages (from farm-haystack[elasticsearch]) (2.31.0)\n",
      "Requirement already satisfied: requests-cache<1.0.0 in c:\\users\\nikit\\appdata\\local\\programs\\python\\python311\\lib\\site-packages (from farm-haystack[elasticsearch]) (0.9.8)\n",
      "Requirement already satisfied: scikit-learn>=1.3.0 in c:\\users\\nikit\\appdata\\local\\programs\\python\\python311\\lib\\site-packages (from farm-haystack[elasticsearch]) (1.3.0)\n",
      "Requirement already satisfied: sseclient-py in c:\\users\\nikit\\appdata\\local\\programs\\python\\python311\\lib\\site-packages (from farm-haystack[elasticsearch]) (1.7.2)\n",
      "Requirement already satisfied: tenacity in c:\\users\\nikit\\appdata\\local\\programs\\python\\python311\\lib\\site-packages (from farm-haystack[elasticsearch]) (8.2.2)\n",
      "Requirement already satisfied: tiktoken>=0.3.2 in c:\\users\\nikit\\appdata\\local\\programs\\python\\python311\\lib\\site-packages (from farm-haystack[elasticsearch]) (0.4.0)\n",
      "Requirement already satisfied: tqdm in c:\\users\\nikit\\appdata\\local\\programs\\python\\python311\\lib\\site-packages (from farm-haystack[elasticsearch]) (4.65.0)\n",
      "Requirement already satisfied: transformers==4.31.0 in c:\\users\\nikit\\appdata\\local\\programs\\python\\python311\\lib\\site-packages (from farm-haystack[elasticsearch]) (4.31.0)\n",
      "Requirement already satisfied: pyyaml<7.0,>=6.0 in c:\\users\\nikit\\appdata\\local\\programs\\python\\python311\\lib\\site-packages (from prompthub-py==4.0.0->farm-haystack[elasticsearch]) (6.0)\n",
      "Requirement already satisfied: filelock in c:\\users\\nikit\\appdata\\local\\programs\\python\\python311\\lib\\site-packages (from transformers==4.31.0->farm-haystack[elasticsearch]) (3.9.0)\n",
      "Requirement already satisfied: huggingface-hub<1.0,>=0.14.1 in c:\\users\\nikit\\appdata\\local\\programs\\python\\python311\\lib\\site-packages (from transformers==4.31.0->farm-haystack[elasticsearch]) (0.15.1)\n",
      "Requirement already satisfied: numpy>=1.17 in c:\\users\\nikit\\appdata\\local\\programs\\python\\python311\\lib\\site-packages (from transformers==4.31.0->farm-haystack[elasticsearch]) (1.24.4)\n",
      "Requirement already satisfied: packaging>=20.0 in c:\\users\\nikit\\appdata\\roaming\\python\\python311\\site-packages (from transformers==4.31.0->farm-haystack[elasticsearch]) (23.1)\n",
      "Requirement already satisfied: regex!=2019.12.17 in c:\\users\\nikit\\appdata\\local\\programs\\python\\python311\\lib\\site-packages (from transformers==4.31.0->farm-haystack[elasticsearch]) (2023.6.3)\n",
      "Requirement already satisfied: tokenizers!=0.11.3,<0.14,>=0.11.1 in c:\\users\\nikit\\appdata\\local\\programs\\python\\python311\\lib\\site-packages (from transformers==4.31.0->farm-haystack[elasticsearch]) (0.13.3)\n",
      "Requirement already satisfied: safetensors>=0.3.1 in c:\\users\\nikit\\appdata\\local\\programs\\python\\python311\\lib\\site-packages (from transformers==4.31.0->farm-haystack[elasticsearch]) (0.3.1)\n",
      "Requirement already satisfied: pyarrow>=8.0.0 in c:\\users\\nikit\\appdata\\local\\programs\\python\\python311\\lib\\site-packages (from datasets) (12.0.1)\n",
      "Requirement already satisfied: dill<0.3.7,>=0.3.0 in c:\\users\\nikit\\appdata\\local\\programs\\python\\python311\\lib\\site-packages (from datasets) (0.3.6)\n",
      "Requirement already satisfied: xxhash in c:\\users\\nikit\\appdata\\local\\programs\\python\\python311\\lib\\site-packages (from datasets) (3.2.0)\n",
      "Requirement already satisfied: multiprocess in c:\\users\\nikit\\appdata\\local\\programs\\python\\python311\\lib\\site-packages (from datasets) (0.70.14)\n",
      "Requirement already satisfied: fsspec[http]>=2021.11.1 in c:\\users\\nikit\\appdata\\local\\programs\\python\\python311\\lib\\site-packages (from datasets) (2023.6.0)\n",
      "Requirement already satisfied: aiohttp in c:\\users\\nikit\\appdata\\local\\programs\\python\\python311\\lib\\site-packages (from datasets) (3.8.4)\n",
      "Requirement already satisfied: attrs>=17.3.0 in c:\\users\\nikit\\appdata\\local\\programs\\python\\python311\\lib\\site-packages (from aiohttp->datasets) (23.1.0)\n",
      "Requirement already satisfied: charset-normalizer<4.0,>=2.0 in c:\\users\\nikit\\appdata\\local\\programs\\python\\python311\\lib\\site-packages (from aiohttp->datasets) (2.1.1)\n",
      "Requirement already satisfied: multidict<7.0,>=4.5 in c:\\users\\nikit\\appdata\\local\\programs\\python\\python311\\lib\\site-packages (from aiohttp->datasets) (6.0.4)\n",
      "Requirement already satisfied: async-timeout<5.0,>=4.0.0a3 in c:\\users\\nikit\\appdata\\local\\programs\\python\\python311\\lib\\site-packages (from aiohttp->datasets) (4.0.2)\n",
      "Requirement already satisfied: yarl<2.0,>=1.0 in c:\\users\\nikit\\appdata\\local\\programs\\python\\python311\\lib\\site-packages (from aiohttp->datasets) (1.9.2)\n",
      "Requirement already satisfied: frozenlist>=1.1.1 in c:\\users\\nikit\\appdata\\local\\programs\\python\\python311\\lib\\site-packages (from aiohttp->datasets) (1.3.3)\n",
      "Requirement already satisfied: aiosignal>=1.1.2 in c:\\users\\nikit\\appdata\\local\\programs\\python\\python311\\lib\\site-packages (from aiohttp->datasets) (1.3.1)\n",
      "Requirement already satisfied: typing-extensions>=3.7.4.3 in c:\\users\\nikit\\appdata\\local\\programs\\python\\python311\\lib\\site-packages (from huggingface-hub<1.0,>=0.14.1->transformers==4.31.0->farm-haystack[elasticsearch]) (4.4.0)\n",
      "Requirement already satisfied: idna<4,>=2.5 in c:\\users\\nikit\\appdata\\local\\programs\\python\\python311\\lib\\site-packages (from requests->farm-haystack[elasticsearch]) (3.4)\n",
      "Requirement already satisfied: urllib3<3,>=1.21.1 in c:\\users\\nikit\\appdata\\local\\programs\\python\\python311\\lib\\site-packages (from requests->farm-haystack[elasticsearch]) (1.26.13)\n",
      "Requirement already satisfied: certifi>=2017.4.17 in c:\\users\\nikit\\appdata\\local\\programs\\python\\python311\\lib\\site-packages (from requests->farm-haystack[elasticsearch]) (2022.12.7)\n",
      "Requirement already satisfied: appdirs>=1.4.4 in c:\\users\\nikit\\appdata\\local\\programs\\python\\python311\\lib\\site-packages (from requests-cache<1.0.0->farm-haystack[elasticsearch]) (1.4.4)\n",
      "Requirement already satisfied: cattrs>=22.2 in c:\\users\\nikit\\appdata\\local\\programs\\python\\python311\\lib\\site-packages (from requests-cache<1.0.0->farm-haystack[elasticsearch]) (23.1.2)\n",
      "Requirement already satisfied: url-normalize>=1.4 in c:\\users\\nikit\\appdata\\local\\programs\\python\\python311\\lib\\site-packages (from requests-cache<1.0.0->farm-haystack[elasticsearch]) (1.4.3)\n",
      "Requirement already satisfied: scipy>=1.5.0 in c:\\users\\nikit\\appdata\\local\\programs\\python\\python311\\lib\\site-packages (from scikit-learn>=1.3.0->farm-haystack[elasticsearch]) (1.11.1)\n",
      "Requirement already satisfied: joblib>=1.1.1 in c:\\users\\nikit\\appdata\\local\\programs\\python\\python311\\lib\\site-packages (from scikit-learn>=1.3.0->farm-haystack[elasticsearch]) (1.3.1)\n",
      "Requirement already satisfied: threadpoolctl>=2.0.0 in c:\\users\\nikit\\appdata\\local\\programs\\python\\python311\\lib\\site-packages (from scikit-learn>=1.3.0->farm-haystack[elasticsearch]) (3.1.0)\n",
      "Requirement already satisfied: colorama in c:\\users\\nikit\\appdata\\roaming\\python\\python311\\site-packages (from tqdm->farm-haystack[elasticsearch]) (0.4.6)\n",
      "Collecting elastic-transport<8 (from farm-haystack[elasticsearch])\n",
      "  Downloading elastic_transport-7.16.0-py2.py3-none-any.whl (35 kB)\n",
      "Collecting elasticsearch<8,>=7.17 (from farm-haystack[elasticsearch])\n",
      "  Downloading elasticsearch-7.17.9-py2.py3-none-any.whl (385 kB)\n",
      "                                              0.0/386.0 kB ? eta -:--:--\n",
      "     ------------------------------------- 386.0/386.0 kB 23.5 MB/s eta 0:00:00\n",
      "Requirement already satisfied: pyrsistent!=0.17.0,!=0.17.1,!=0.17.2,>=0.14.0 in c:\\users\\nikit\\appdata\\local\\programs\\python\\python311\\lib\\site-packages (from jsonschema->farm-haystack[elasticsearch]) (0.19.3)\n",
      "Requirement already satisfied: python-dateutil>=2.8.2 in c:\\users\\nikit\\appdata\\roaming\\python\\python311\\site-packages (from pandas->farm-haystack[elasticsearch]) (2.8.2)\n",
      "Requirement already satisfied: pytz>=2020.1 in c:\\users\\nikit\\appdata\\local\\programs\\python\\python311\\lib\\site-packages (from pandas->farm-haystack[elasticsearch]) (2023.3)\n",
      "Requirement already satisfied: tzdata>=2022.1 in c:\\users\\nikit\\appdata\\local\\programs\\python\\python311\\lib\\site-packages (from pandas->farm-haystack[elasticsearch]) (2023.3)\n",
      "Requirement already satisfied: six>=1.5 in c:\\users\\nikit\\appdata\\local\\programs\\python\\python311\\lib\\site-packages (from posthog->farm-haystack[elasticsearch]) (1.16.0)\n",
      "Requirement already satisfied: monotonic>=1.5 in c:\\users\\nikit\\appdata\\local\\programs\\python\\python311\\lib\\site-packages (from posthog->farm-haystack[elasticsearch]) (1.6)\n",
      "Requirement already satisfied: backoff>=1.10.0 in c:\\users\\nikit\\appdata\\local\\programs\\python\\python311\\lib\\site-packages (from posthog->farm-haystack[elasticsearch]) (2.2.1)\n",
      "Requirement already satisfied: inflect in c:\\users\\nikit\\appdata\\local\\programs\\python\\python311\\lib\\site-packages (from quantulum3->farm-haystack[elasticsearch]) (7.0.0)\n",
      "Requirement already satisfied: num2words in c:\\users\\nikit\\appdata\\local\\programs\\python\\python311\\lib\\site-packages (from quantulum3->farm-haystack[elasticsearch]) (0.5.12)\n",
      "Requirement already satisfied: docopt>=0.6.2 in c:\\users\\nikit\\appdata\\local\\programs\\python\\python311\\lib\\site-packages (from num2words->quantulum3->farm-haystack[elasticsearch]) (0.6.2)\n",
      "Installing collected packages: elasticsearch, elastic-transport\n",
      "Successfully installed elastic-transport-7.16.0 elasticsearch-7.17.9\n"
     ]
    },
    {
     "name": "stderr",
     "output_type": "stream",
     "text": [
      "\n",
      "[notice] A new release of pip is available: 23.1.2 -> 23.2.1\n",
      "[notice] To update, run: python.exe -m pip install --upgrade pip\n"
     ]
    },
    {
     "name": "stdout",
     "output_type": "stream",
     "text": [
      "Requirement already satisfied: farm-haystack[inference] in c:\\users\\nikit\\appdata\\local\\programs\\python\\python311\\lib\\site-packages (1.19.0)\n",
      "Requirement already satisfied: boilerpy3 in c:\\users\\nikit\\appdata\\local\\programs\\python\\python311\\lib\\site-packages (from farm-haystack[inference]) (1.0.6)\n",
      "Requirement already satisfied: canals==0.3.2 in c:\\users\\nikit\\appdata\\local\\programs\\python\\python311\\lib\\site-packages (from farm-haystack[inference]) (0.3.2)\n",
      "Requirement already satisfied: events in c:\\users\\nikit\\appdata\\local\\programs\\python\\python311\\lib\\site-packages (from farm-haystack[inference]) (0.5)\n",
      "Requirement already satisfied: jsonschema in c:\\users\\nikit\\appdata\\local\\programs\\python\\python311\\lib\\site-packages (from farm-haystack[inference]) (4.17.3)\n",
      "Requirement already satisfied: lazy-imports==0.3.1 in c:\\users\\nikit\\appdata\\local\\programs\\python\\python311\\lib\\site-packages (from farm-haystack[inference]) (0.3.1)\n",
      "Requirement already satisfied: more-itertools in c:\\users\\nikit\\appdata\\local\\programs\\python\\python311\\lib\\site-packages (from farm-haystack[inference]) (10.1.0)\n",
      "Requirement already satisfied: networkx in c:\\users\\nikit\\appdata\\local\\programs\\python\\python311\\lib\\site-packages (from farm-haystack[inference]) (3.0)\n",
      "Requirement already satisfied: pandas in c:\\users\\nikit\\appdata\\local\\programs\\python\\python311\\lib\\site-packages (from farm-haystack[inference]) (2.0.2)\n",
      "Requirement already satisfied: pillow in c:\\users\\nikit\\appdata\\local\\programs\\python\\python311\\lib\\site-packages (from farm-haystack[inference]) (9.3.0)\n",
      "Requirement already satisfied: platformdirs in c:\\users\\nikit\\appdata\\roaming\\python\\python311\\site-packages (from farm-haystack[inference]) (3.5.1)\n",
      "Requirement already satisfied: posthog in c:\\users\\nikit\\appdata\\local\\programs\\python\\python311\\lib\\site-packages (from farm-haystack[inference]) (3.0.2)\n",
      "Requirement already satisfied: prompthub-py==4.0.0 in c:\\users\\nikit\\appdata\\local\\programs\\python\\python311\\lib\\site-packages (from farm-haystack[inference]) (4.0.0)\n",
      "Requirement already satisfied: pydantic<2 in c:\\users\\nikit\\appdata\\local\\programs\\python\\python311\\lib\\site-packages (from farm-haystack[inference]) (1.10.12)\n",
      "Requirement already satisfied: quantulum3 in c:\\users\\nikit\\appdata\\local\\programs\\python\\python311\\lib\\site-packages (from farm-haystack[inference]) (0.9.0)\n",
      "Requirement already satisfied: rank-bm25 in c:\\users\\nikit\\appdata\\local\\programs\\python\\python311\\lib\\site-packages (from farm-haystack[inference]) (0.2.2)\n",
      "Requirement already satisfied: requests in c:\\users\\nikit\\appdata\\local\\programs\\python\\python311\\lib\\site-packages (from farm-haystack[inference]) (2.31.0)\n",
      "Requirement already satisfied: requests-cache<1.0.0 in c:\\users\\nikit\\appdata\\local\\programs\\python\\python311\\lib\\site-packages (from farm-haystack[inference]) (0.9.8)\n",
      "Requirement already satisfied: scikit-learn>=1.3.0 in c:\\users\\nikit\\appdata\\local\\programs\\python\\python311\\lib\\site-packages (from farm-haystack[inference]) (1.3.0)\n",
      "Requirement already satisfied: sseclient-py in c:\\users\\nikit\\appdata\\local\\programs\\python\\python311\\lib\\site-packages (from farm-haystack[inference]) (1.7.2)\n",
      "Requirement already satisfied: tenacity in c:\\users\\nikit\\appdata\\local\\programs\\python\\python311\\lib\\site-packages (from farm-haystack[inference]) (8.2.2)\n",
      "Requirement already satisfied: tiktoken>=0.3.2 in c:\\users\\nikit\\appdata\\local\\programs\\python\\python311\\lib\\site-packages (from farm-haystack[inference]) (0.4.0)\n",
      "Requirement already satisfied: tqdm in c:\\users\\nikit\\appdata\\local\\programs\\python\\python311\\lib\\site-packages (from farm-haystack[inference]) (4.65.0)\n",
      "Requirement already satisfied: transformers==4.31.0 in c:\\users\\nikit\\appdata\\local\\programs\\python\\python311\\lib\\site-packages (from farm-haystack[inference]) (4.31.0)\n",
      "Requirement already satisfied: huggingface-hub>=0.5.0 in c:\\users\\nikit\\appdata\\local\\programs\\python\\python311\\lib\\site-packages (from farm-haystack[inference]) (0.15.1)\n",
      "Collecting sentence-transformers>=2.2.0 (from farm-haystack[inference])\n",
      "  Downloading sentence-transformers-2.2.2.tar.gz (85 kB)\n",
      "                                              0.0/86.0 kB ? eta -:--:--\n",
      "     ---------------------------------------- 86.0/86.0 kB 5.0 MB/s eta 0:00:00\n",
      "  Installing build dependencies: started\n",
      "  Installing build dependencies: finished with status 'done'\n",
      "  Getting requirements to build wheel: started\n",
      "  Getting requirements to build wheel: finished with status 'done'\n",
      "  Preparing metadata (pyproject.toml): started\n",
      "  Preparing metadata (pyproject.toml): finished with status 'done'\n",
      "Requirement already satisfied: pyyaml<7.0,>=6.0 in c:\\users\\nikit\\appdata\\local\\programs\\python\\python311\\lib\\site-packages (from prompthub-py==4.0.0->farm-haystack[inference]) (6.0)\n",
      "Requirement already satisfied: filelock in c:\\users\\nikit\\appdata\\local\\programs\\python\\python311\\lib\\site-packages (from transformers==4.31.0->farm-haystack[inference]) (3.9.0)\n",
      "Requirement already satisfied: numpy>=1.17 in c:\\users\\nikit\\appdata\\local\\programs\\python\\python311\\lib\\site-packages (from transformers==4.31.0->farm-haystack[inference]) (1.24.4)\n",
      "Requirement already satisfied: packaging>=20.0 in c:\\users\\nikit\\appdata\\roaming\\python\\python311\\site-packages (from transformers==4.31.0->farm-haystack[inference]) (23.1)\n",
      "Requirement already satisfied: regex!=2019.12.17 in c:\\users\\nikit\\appdata\\local\\programs\\python\\python311\\lib\\site-packages (from transformers==4.31.0->farm-haystack[inference]) (2023.6.3)\n",
      "Requirement already satisfied: tokenizers!=0.11.3,<0.14,>=0.11.1 in c:\\users\\nikit\\appdata\\local\\programs\\python\\python311\\lib\\site-packages (from transformers==4.31.0->farm-haystack[inference]) (0.13.3)\n",
      "Requirement already satisfied: safetensors>=0.3.1 in c:\\users\\nikit\\appdata\\local\\programs\\python\\python311\\lib\\site-packages (from transformers==4.31.0->farm-haystack[inference]) (0.3.1)\n",
      "Requirement already satisfied: sentencepiece!=0.1.92,>=0.1.91 in c:\\users\\nikit\\appdata\\local\\programs\\python\\python311\\lib\\site-packages (from transformers==4.31.0->farm-haystack[inference]) (0.1.99)\n",
      "Requirement already satisfied: protobuf in c:\\users\\nikit\\appdata\\local\\programs\\python\\python311\\lib\\site-packages (from transformers==4.31.0->farm-haystack[inference]) (3.20.0)\n",
      "Requirement already satisfied: torch!=1.12.0,>=1.9 in c:\\users\\nikit\\appdata\\local\\programs\\python\\python311\\lib\\site-packages (from transformers==4.31.0->farm-haystack[inference]) (2.0.1+cu118)\n",
      "Requirement already satisfied: accelerate>=0.20.3 in c:\\users\\nikit\\appdata\\local\\programs\\python\\python311\\lib\\site-packages (from transformers==4.31.0->farm-haystack[inference]) (0.20.3)\n",
      "Requirement already satisfied: fsspec in c:\\users\\nikit\\appdata\\local\\programs\\python\\python311\\lib\\site-packages (from huggingface-hub>=0.5.0->farm-haystack[inference]) (2023.6.0)\n",
      "Requirement already satisfied: typing-extensions>=3.7.4.3 in c:\\users\\nikit\\appdata\\local\\programs\\python\\python311\\lib\\site-packages (from huggingface-hub>=0.5.0->farm-haystack[inference]) (4.4.0)\n",
      "Requirement already satisfied: charset-normalizer<4,>=2 in c:\\users\\nikit\\appdata\\local\\programs\\python\\python311\\lib\\site-packages (from requests->farm-haystack[inference]) (2.1.1)\n",
      "Requirement already satisfied: idna<4,>=2.5 in c:\\users\\nikit\\appdata\\local\\programs\\python\\python311\\lib\\site-packages (from requests->farm-haystack[inference]) (3.4)\n",
      "Requirement already satisfied: urllib3<3,>=1.21.1 in c:\\users\\nikit\\appdata\\local\\programs\\python\\python311\\lib\\site-packages (from requests->farm-haystack[inference]) (1.26.13)\n",
      "Requirement already satisfied: certifi>=2017.4.17 in c:\\users\\nikit\\appdata\\local\\programs\\python\\python311\\lib\\site-packages (from requests->farm-haystack[inference]) (2022.12.7)\n",
      "Requirement already satisfied: appdirs>=1.4.4 in c:\\users\\nikit\\appdata\\local\\programs\\python\\python311\\lib\\site-packages (from requests-cache<1.0.0->farm-haystack[inference]) (1.4.4)\n",
      "Requirement already satisfied: attrs>=21.2 in c:\\users\\nikit\\appdata\\local\\programs\\python\\python311\\lib\\site-packages (from requests-cache<1.0.0->farm-haystack[inference]) (23.1.0)\n",
      "Requirement already satisfied: cattrs>=22.2 in c:\\users\\nikit\\appdata\\local\\programs\\python\\python311\\lib\\site-packages (from requests-cache<1.0.0->farm-haystack[inference]) (23.1.2)\n",
      "Requirement already satisfied: url-normalize>=1.4 in c:\\users\\nikit\\appdata\\local\\programs\\python\\python311\\lib\\site-packages (from requests-cache<1.0.0->farm-haystack[inference]) (1.4.3)\n",
      "Requirement already satisfied: scipy>=1.5.0 in c:\\users\\nikit\\appdata\\local\\programs\\python\\python311\\lib\\site-packages (from scikit-learn>=1.3.0->farm-haystack[inference]) (1.11.1)\n",
      "Requirement already satisfied: joblib>=1.1.1 in c:\\users\\nikit\\appdata\\local\\programs\\python\\python311\\lib\\site-packages (from scikit-learn>=1.3.0->farm-haystack[inference]) (1.3.1)\n",
      "Requirement already satisfied: threadpoolctl>=2.0.0 in c:\\users\\nikit\\appdata\\local\\programs\\python\\python311\\lib\\site-packages (from scikit-learn>=1.3.0->farm-haystack[inference]) (3.1.0)\n",
      "Requirement already satisfied: torchvision in c:\\users\\nikit\\appdata\\local\\programs\\python\\python311\\lib\\site-packages (from sentence-transformers>=2.2.0->farm-haystack[inference]) (0.15.2+cu118)\n",
      "Requirement already satisfied: nltk in c:\\users\\nikit\\appdata\\local\\programs\\python\\python311\\lib\\site-packages (from sentence-transformers>=2.2.0->farm-haystack[inference]) (3.8.1)\n",
      "Requirement already satisfied: colorama in c:\\users\\nikit\\appdata\\roaming\\python\\python311\\site-packages (from tqdm->farm-haystack[inference]) (0.4.6)\n",
      "Requirement already satisfied: pyrsistent!=0.17.0,!=0.17.1,!=0.17.2,>=0.14.0 in c:\\users\\nikit\\appdata\\local\\programs\\python\\python311\\lib\\site-packages (from jsonschema->farm-haystack[inference]) (0.19.3)\n",
      "Requirement already satisfied: python-dateutil>=2.8.2 in c:\\users\\nikit\\appdata\\roaming\\python\\python311\\site-packages (from pandas->farm-haystack[inference]) (2.8.2)\n",
      "Requirement already satisfied: pytz>=2020.1 in c:\\users\\nikit\\appdata\\local\\programs\\python\\python311\\lib\\site-packages (from pandas->farm-haystack[inference]) (2023.3)\n",
      "Requirement already satisfied: tzdata>=2022.1 in c:\\users\\nikit\\appdata\\local\\programs\\python\\python311\\lib\\site-packages (from pandas->farm-haystack[inference]) (2023.3)\n",
      "Requirement already satisfied: six>=1.5 in c:\\users\\nikit\\appdata\\local\\programs\\python\\python311\\lib\\site-packages (from posthog->farm-haystack[inference]) (1.16.0)\n",
      "Requirement already satisfied: monotonic>=1.5 in c:\\users\\nikit\\appdata\\local\\programs\\python\\python311\\lib\\site-packages (from posthog->farm-haystack[inference]) (1.6)\n",
      "Requirement already satisfied: backoff>=1.10.0 in c:\\users\\nikit\\appdata\\local\\programs\\python\\python311\\lib\\site-packages (from posthog->farm-haystack[inference]) (2.2.1)\n",
      "Requirement already satisfied: inflect in c:\\users\\nikit\\appdata\\local\\programs\\python\\python311\\lib\\site-packages (from quantulum3->farm-haystack[inference]) (7.0.0)\n",
      "Requirement already satisfied: num2words in c:\\users\\nikit\\appdata\\local\\programs\\python\\python311\\lib\\site-packages (from quantulum3->farm-haystack[inference]) (0.5.12)\n",
      "Requirement already satisfied: psutil in c:\\users\\nikit\\appdata\\roaming\\python\\python311\\site-packages (from accelerate>=0.20.3->transformers==4.31.0->farm-haystack[inference]) (5.9.5)\n",
      "Requirement already satisfied: sympy in c:\\users\\nikit\\appdata\\local\\programs\\python\\python311\\lib\\site-packages (from torch!=1.12.0,>=1.9->transformers==4.31.0->farm-haystack[inference]) (1.11.1)\n",
      "Requirement already satisfied: jinja2 in c:\\users\\nikit\\appdata\\local\\programs\\python\\python311\\lib\\site-packages (from torch!=1.12.0,>=1.9->transformers==4.31.0->farm-haystack[inference]) (3.1.2)\n",
      "Requirement already satisfied: click in c:\\users\\nikit\\appdata\\local\\programs\\python\\python311\\lib\\site-packages (from nltk->sentence-transformers>=2.2.0->farm-haystack[inference]) (8.1.6)\n",
      "Requirement already satisfied: docopt>=0.6.2 in c:\\users\\nikit\\appdata\\local\\programs\\python\\python311\\lib\\site-packages (from num2words->quantulum3->farm-haystack[inference]) (0.6.2)\n",
      "Requirement already satisfied: MarkupSafe>=2.0 in c:\\users\\nikit\\appdata\\local\\programs\\python\\python311\\lib\\site-packages (from jinja2->torch!=1.12.0,>=1.9->transformers==4.31.0->farm-haystack[inference]) (2.1.2)\n",
      "Requirement already satisfied: mpmath>=0.19 in c:\\users\\nikit\\appdata\\local\\programs\\python\\python311\\lib\\site-packages (from sympy->torch!=1.12.0,>=1.9->transformers==4.31.0->farm-haystack[inference]) (1.2.1)\n",
      "Building wheels for collected packages: sentence-transformers\n",
      "  Building wheel for sentence-transformers (pyproject.toml): started\n",
      "  Building wheel for sentence-transformers (pyproject.toml): finished with status 'done'\n",
      "  Created wheel for sentence-transformers: filename=sentence_transformers-2.2.2-py3-none-any.whl size=125953 sha256=8340107c14e085573b9a8fe24609a4ee0f0f635a2637b4c96b717fcd8e5a8278\n",
      "  Stored in directory: c:\\users\\nikit\\appdata\\local\\pip\\cache\\wheels\\ff\\27\\bf\\ffba8b318b02d7f691a57084ee154e26ed24d012b0c7805881\n",
      "Successfully built sentence-transformers\n",
      "Installing collected packages: sentence-transformers\n",
      "Successfully installed sentence-transformers-2.2.2\n"
     ]
    },
    {
     "name": "stderr",
     "output_type": "stream",
     "text": [
      "\n",
      "[notice] A new release of pip is available: 23.1.2 -> 23.2.1\n",
      "[notice] To update, run: python.exe -m pip install --upgrade pip\n"
     ]
    }
   ],
   "source": [
    "# ! pip install farm-haystack[elasticsearch] datasets\n",
    "# ! pip install farm-haystack[inference]"
   ]
  },
  {
   "cell_type": "code",
   "execution_count": 6,
   "metadata": {},
   "outputs": [
    {
     "name": "stderr",
     "output_type": "stream",
     "text": [
      "Found cached dataset subjqa (C:/Users/nikit/.cache/huggingface/datasets/subjqa/electronics/1.1.0/2c12e496c4c675ab4a57ffb5d3f538f2e7b89793956e50da37126393ce23b6c6)\n"
     ]
    },
    {
     "data": {
      "application/vnd.jupyter.widget-view+json": {
       "model_id": "9cab8af5e01e4752ab6efd874d771129",
       "version_major": 2,
       "version_minor": 0
      },
      "text/plain": [
       "  0%|          | 0/3 [00:00<?, ?it/s]"
      ]
     },
     "metadata": {},
     "output_type": "display_data"
    }
   ],
   "source": [
    "from datasets import load_dataset\n",
    "import pandas as pd\n",
    "import matplotlib.pyplot as plt\n",
    "\n",
    "import torch\n",
    "from transformers import AutoTokenizer\n",
    "from transformers import AutoModelForQuestionAnswering\n",
    "\n",
    "subjqa = load_dataset('subjqa', name='electronics')\n",
    "\n",
    "MINI_CKPT = 'deepset/minilm-uncased-squad2'  # 0.1 GB\n",
    "ROBERTA_CKPT = 'deepset/roberta-base-squad2' # 0.5 GB\n",
    "\n",
    "model_ckpt = MINI_CKPT\n",
    "\n",
    "tokenizer = AutoTokenizer.from_pretrained(model_ckpt)\n"
   ]
  },
  {
   "cell_type": "markdown",
   "metadata": {},
   "source": [
    "## Example"
   ]
  },
  {
   "cell_type": "code",
   "execution_count": 7,
   "metadata": {},
   "outputs": [
    {
     "name": "stdout",
     "output_type": "stream",
     "text": [
      "input_ids : tensor([[  101,  2054,  7337,  2106,  1996,  1059,  1011, 23821,  2224,  2005,\n",
      "          2491,  1029,   102,  1996,  6119,  3428,  5520,  1996,  5013,  1011,\n",
      "          3498, 13297,  2006,  2285,  2459,  1010,  5778,  1012,  2037,  2948,\n",
      "          1010,  1996,  1059,  1011, 23821,  1010,  2109,  9932,  3917,  5644,\n",
      "          2005,  2491,  1998,  2018,  1037,  2260,  1011, 15149,  3194,  1012,\n",
      "           102]])\n",
      "token_type_ids : tensor([[0, 0, 0, 0, 0, 0, 0, 0, 0, 0, 0, 0, 0, 1, 1, 1, 1, 1, 1, 1, 1, 1, 1, 1,\n",
      "         1, 1, 1, 1, 1, 1, 1, 1, 1, 1, 1, 1, 1, 1, 1, 1, 1, 1, 1, 1, 1, 1, 1, 1,\n",
      "         1, 1, 1]])\n",
      "attention_mask : tensor([[1, 1, 1, 1, 1, 1, 1, 1, 1, 1, 1, 1, 1, 1, 1, 1, 1, 1, 1, 1, 1, 1, 1, 1,\n",
      "         1, 1, 1, 1, 1, 1, 1, 1, 1, 1, 1, 1, 1, 1, 1, 1, 1, 1, 1, 1, 1, 1, 1, 1,\n",
      "         1, 1, 1]])\n",
      "[CLS] what mechanism did the w - flyer use for control? [SEP] the wright brothers flew the motor - operated airplane on december 17, 1903. their aircraft, the w - flyer, used ailerons for control and had a 12 - horsepower engine. [SEP]\n"
     ]
    }
   ],
   "source": [
    "question1 = \"What mechanism did the W-Flyer use for control?\" # ailerons\n",
    "question2 = \"What Wright brothers used to fly?\" # the W-Flyer\n",
    "question3 = \"When Wright brothers flew?\" # december 17, 1903\n",
    "question4 = \"How many horsepower had W-Flyer?\" # 12\n",
    "\n",
    "\n",
    "context = \"The Wright brothers flew the motor-operated airplane on December 17, 1903. Their aircraft, the W-Flyer, used ailerons for control and had a 12-horsepower engine.\"\n",
    "inputs = tokenizer(question1, context, return_tensors='pt')\n",
    "\n",
    "for key, item in inputs.items():\n",
    "    print(key, ':', item)\n",
    "print(tokenizer.decode(inputs['input_ids'][0]))"
   ]
  },
  {
   "cell_type": "markdown",
   "metadata": {},
   "source": [
    "## Model"
   ]
  },
  {
   "cell_type": "code",
   "execution_count": 8,
   "metadata": {},
   "outputs": [
    {
     "name": "stderr",
     "output_type": "stream",
     "text": [
      "Some weights of the model checkpoint at deepset/minilm-uncased-squad2 were not used when initializing BertForQuestionAnswering: ['bert.pooler.dense.weight', 'bert.pooler.dense.bias']\n",
      "- This IS expected if you are initializing BertForQuestionAnswering from the checkpoint of a model trained on another task or with another architecture (e.g. initializing a BertForSequenceClassification model from a BertForPreTraining model).\n",
      "- This IS NOT expected if you are initializing BertForQuestionAnswering from the checkpoint of a model that you expect to be exactly identical (initializing a BertForSequenceClassification model from a BertForSequenceClassification model).\n"
     ]
    },
    {
     "name": "stdout",
     "output_type": "stream",
     "text": [
      "tensor(37) tensor(39)\n",
      "question='What mechanism did the W-Flyer use for control?'\n",
      "model_answer='ailerons'\n",
      "\n",
      "tensor(27) tensor(30)\n",
      "question='What Wright brothers used to fly?'\n",
      "model_answer='the w - flyer'\n",
      "\n",
      "tensor(17) tensor(20)\n",
      "question='When Wright brothers flew?'\n",
      "model_answer='december 17, 1903'\n",
      "\n",
      "tensor(42) tensor(42)\n",
      "question='How many horsepower had W-Flyer?'\n",
      "model_answer='12'\n",
      "\n"
     ]
    }
   ],
   "source": [
    "model = AutoModelForQuestionAnswering.from_pretrained(model_ckpt)\n",
    "\n",
    "for question in [question1, question2, question3, question4]:\n",
    "\n",
    "    inputs = tokenizer(question, context, return_tensors='pt')\n",
    "\n",
    "    with torch.no_grad():\n",
    "        outputs = model(**inputs)\n",
    "\n",
    "    start = outputs.start_logits[0].argmax()\n",
    "    end = outputs.end_logits[0].argmax()\n",
    "    print(start, end)\n",
    "    model_answer = tokenizer.decode(inputs['input_ids'][0][start:end+1])\n",
    "    print(f'{question=}\\n{model_answer=}\\n')"
   ]
  },
  {
   "cell_type": "markdown",
   "metadata": {},
   "source": [
    "### (Linux) Set Up ElasticSearch server:"
   ]
  },
  {
   "cell_type": "code",
   "execution_count": 23,
   "metadata": {},
   "outputs": [],
   "source": [
    "import os\n",
    "import requests\n",
    "import time\n",
    "from subprocess import Popen, PIPE, STDOUT\n",
    "\n",
    "\n",
    "# Run Elasticsearch as a background process\n",
    "\n",
    "# Windows:\n",
    "# es_server = Popen(['D:\\\\PROGRAMS\\\\elasticsearch-8.9.1-windows-x86_64\\\\elasticsearch-8.9.1\\\\bin\\\\elasticsearch.bat'], stdout=PIPE, stderr=STDOUT, shell=True)\n",
    "\n",
    "# Linux:\n",
    "url = \"\"\"https://artifacts.elastic.co/downloads/elasticsearch/\\\n",
    "elasticsearch-7.9.2-linux-x86_64.tar.gz\"\"\"\n",
    "!wget -nc -q {url}\n",
    "!tar -xzf elasticsearch-7.9.2-linux-x86_64.tar.gz\n",
    "!chown -R daemon:daemon elasticsearch-7.9.2\n",
    "es_server = Popen(args=['elasticsearch-7.9.2/bin/elasticsearch'], stdout=PIPE, stderr=STDOUT, preexec_fn=lambda: os.setuid(1))\n",
    "\n",
    "\n",
    "# Wait until Elasticsearch has started\n",
    "time.sleep(30)\n",
    "\n",
    "\n",
    "# response = requests.get('http://localhost:9200')\n",
    "# assert response.status_code == 200, \"Elasticsearch connection is not set ;(\"\n"
   ]
  },
  {
   "cell_type": "markdown",
   "metadata": {},
   "source": [
    "### Instantiate document store and load SubjQA"
   ]
  },
  {
   "cell_type": "code",
   "execution_count": null,
   "metadata": {},
   "outputs": [],
   "source": [
    "from haystack.document_stores import ElasticsearchDocumentStore\n",
    "\n",
    "# Return the document embedding for later use with dense retriever\n",
    "document_store = ElasticsearchDocumentStore(return_embedding=True)\n",
    "\n",
    "# Init empty list to keep documents for each split\n",
    "document_store_data = {\"train\": [], \"test\": [], \"validation\": []}\n",
    "\n",
    "# Load data to document_store\n",
    "for split, dataset in  subjqa.flatten().items():\n",
    "    # keep track of seen contexts to avoid duplicates\n",
    "    seen_contexts = set()\n",
    "    \n",
    "    for row in dataset:\n",
    "        cntxt = row['context']\n",
    "\n",
    "        # skip duplicate reviews\n",
    "        if cntxt in seen_contexts:\n",
    "            continue\n",
    "        seen_contexts.add(cntxt)\n",
    "\n",
    "        # prepare the document\n",
    "        document = {\n",
    "            \"content\": cntxt,\n",
    "            \"meta\": {\n",
    "                \"item_id\": row[\"title\"],\n",
    "                \"question_id\": row[\"id\"],\n",
    "                \"split\": split\n",
    "            }\n",
    "        }\n",
    "\n",
    "        # append the document to the appropriate list\n",
    "        document_store_data[split].append(document)\n",
    "\n",
    "    # write all documents to the document_store for current split    \n",
    "    document_store.write_documents(document_store_data[split], index=\"document\")\n",
    "\n",
    "print(f\"Loaded {document_store.get_document_count()} documents\")"
   ]
  },
  {
   "cell_type": "markdown",
   "metadata": {},
   "source": [
    "### Init Elastic Retriever & Reader"
   ]
  },
  {
   "cell_type": "code",
   "execution_count": null,
   "metadata": {},
   "outputs": [],
   "source": [
    "from haystack.nodes import BM25Retriever\n",
    "from haystack.nodes import FARMReader\n",
    "\n",
    "retriever = BM25Retriever(document_store=document_store)\n",
    "\n",
    "reader = FARMReader(model_name_or_path=model_ckpt, progress_bar=False,\n",
    "                    max_seq_len=384, doc_stride=128,\n",
    "                    return_no_answer=True)\n",
    "\n",
    "reader.predict_on_texts(question=question, texts=[context], top_k=1)"
   ]
  }
 ],
 "metadata": {
  "kernelspec": {
   "display_name": "Python 3",
   "language": "python",
   "name": "python3"
  },
  "language_info": {
   "codemirror_mode": {
    "name": "ipython",
    "version": 3
   },
   "file_extension": ".py",
   "mimetype": "text/x-python",
   "name": "python",
   "nbconvert_exporter": "python",
   "pygments_lexer": "ipython3",
   "version": "3.11.4"
  },
  "orig_nbformat": 4
 },
 "nbformat": 4,
 "nbformat_minor": 2
}
